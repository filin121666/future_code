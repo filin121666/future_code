{
  "cells": [
    {
      "cell_type": "code",
      "execution_count": null,
      "metadata": {},
      "outputs": [],
      "source": [
        "%pip install numpy\n",
        "%pip install flair"
      ]
    },
    {
      "cell_type": "code",
      "execution_count": null,
      "metadata": {
        "id": "nlZtyuAZyYYm"
      },
      "outputs": [],
      "source": [
        "import numpy as np\n",
        "from flair.embeddings import WordEmbeddings\n",
        "from flair.embeddings import TransformerWordEmbeddings\n",
        "from flair.data import Sentence"
      ]
    },
    {
      "cell_type": "markdown",
      "metadata": {
        "id": "jOi1SIVkvb9O"
      },
      "source": [
        "Задача 1"
      ]
    },
    {
      "cell_type": "code",
      "execution_count": null,
      "metadata": {
        "id": "EtF_Uhj8vZ-6"
      },
      "outputs": [],
      "source": [
        "glove_embedding = WordEmbeddings('glove')\n",
        "sentence_1 = Sentence('I love python')\n",
        "glove_embedding.embed(sentence_1)\n",
        "\n",
        "for token in sentence_1:\n",
        "    print(token)\n",
        "    print(token.embedding)\n",
        "    print(\"\\n\")"
      ]
    },
    {
      "cell_type": "markdown",
      "metadata": {
        "id": "xsedgeehwsMi"
      },
      "source": [
        "Задача 2"
      ]
    },
    {
      "cell_type": "code",
      "execution_count": null,
      "metadata": {
        "id": "GGzPwjSwwuxK"
      },
      "outputs": [],
      "source": [
        "bert_embedding = TransformerWordEmbeddings('bertbase-multilingual-cased')\n",
        "bert_embedding.embed(sentence_1)\n",
        "\n",
        "for token in sentence_1:\n",
        "    print(token)\n",
        "    print(token.embedding)\n",
        "    print(\"\\n\")"
      ]
    }
  ],
  "metadata": {
    "colab": {
      "provenance": []
    },
    "kernelspec": {
      "display_name": "Python 3",
      "name": "python3"
    },
    "language_info": {
      "codemirror_mode": {
        "name": "ipython",
        "version": 3
      },
      "file_extension": ".py",
      "mimetype": "text/x-python",
      "name": "python",
      "nbconvert_exporter": "python",
      "pygments_lexer": "ipython3",
      "version": "3.12.0"
    }
  },
  "nbformat": 4,
  "nbformat_minor": 0
}
