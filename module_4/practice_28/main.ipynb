{
  "cells": [
    {
      "cell_type": "code",
      "execution_count": null,
      "metadata": {},
      "outputs": [],
      "source": [
        "%pip install matplotlib\n",
        "%pip install nltk"
      ]
    },
    {
      "cell_type": "markdown",
      "metadata": {
        "id": "ZkELnw3CG1rf"
      },
      "source": [
        "Задача 1"
      ]
    },
    {
      "cell_type": "code",
      "execution_count": 1,
      "metadata": {
        "id": "YI3p4rcdKd1T"
      },
      "outputs": [],
      "source": [
        "from collections import Counter\n",
        "import matplotlib.pyplot as plt\n",
        "import random\n",
        "%matplotlib inline"
      ]
    },
    {
      "cell_type": "code",
      "execution_count": null,
      "metadata": {
        "id": "mIGiXEbCA7ts"
      },
      "outputs": [],
      "source": [
        "text = '\"Да, здесь, в этом лесу был этот дуб, с которым мы были согласны,- подумал князь Андрей. - Да где он\",- подумал опять князь Андрей, глядя на левую сторону дороги и, сам того не зная, не узнавая его, любовался тем дубом, которого он искал. Старый дуб, весь преображенный, раскинувшись шатром сочной, темной зелени, млел, чуть колыхаясь в лучах вечернего солнца. Ни корявых пальцев, ни болячек, ни старого недоверия и горя - ничего не было видно. Сквозь жесткую, столетнюю кору пробились без сучков сочные, молодые листья, так что верить нельзя было, что этот старик произвел их. \"Да это тот самый дуб\", - подумал князь Андрей, и на него вдруг нашло беспричинное весеннее чувство радости и обновления. Все лучшие минуты его жизни вдруг в одно и то же время вспомнились ему. И Аустерлиц с высоким небом, и мертвое, укоризненное лицо жены, и Пьер на пароме, и девочка, взволнованная красотою ночи, и эта ночь, и луна - и все это вдруг вспомнилось ему.'\n",
        "text = text.replace(',', '')\n",
        "text = text.replace('.', '')\n",
        "text = text.replace('?', '')\n",
        "text = text.replace('!', '')\n",
        "text = text.replace('\\n', '')\n",
        "text = text.replace('\"', '')\n",
        "text = text.replace('-', '')\n",
        "text = text.split(' ')\n"
      ]
    },
    {
      "cell_type": "code",
      "execution_count": null,
      "metadata": {
        "id": "pIbhWLYnJeUR"
      },
      "outputs": [],
      "source": [
        "count = Counter(text)\n",
        "count.pop('')\n",
        "count"
      ]
    },
    {
      "cell_type": "code",
      "execution_count": null,
      "metadata": {
        "id": "Ka-nFRu0RQ3f"
      },
      "outputs": [],
      "source": [
        "for key, item in count.items():\n",
        "    plt.text(item, random.randint(0, 100), key, ha='center', va='center', size=item*10)\n",
        "plt.axis([0, 11, 0, 100])\n",
        "plt.xticks([])\n",
        "plt.yticks([])\n",
        "plt.show()"
      ]
    },
    {
      "cell_type": "markdown",
      "metadata": {
        "id": "kBBW16eCUWOd"
      },
      "source": [
        "Задача 2"
      ]
    },
    {
      "cell_type": "code",
      "execution_count": null,
      "metadata": {
        "id": "CGOoIN9qUZhG"
      },
      "outputs": [],
      "source": [
        "from nltk import ngrams\n",
        "import nltk\n",
        "from nltk.tokenize import word_tokenize\n",
        "nltk.download('punkt')"
      ]
    },
    {
      "cell_type": "code",
      "execution_count": null,
      "metadata": {
        "id": "NgpMIyU5U-n0"
      },
      "outputs": [],
      "source": [
        "text = '\"Да, здесь, в этом лесу был этот дуб, с которым мы были согласны,- подумал князь Андрей. - Да где он\",- подумал опять князь Андрей, глядя на левую сторону дороги и, сам того не зная, не узнавая его, любовался тем дубом, которого он искал. Старый дуб, весь преображенный, раскинувшись шатром сочной, темной зелени, млел, чуть колыхаясь в лучах вечернего солнца. Ни корявых пальцев, ни болячек, ни старого недоверия и горя - ничего не было видно. Сквозь жесткую, столетнюю кору пробились без сучков сочные, молодые листья, так что верить нельзя было, что этот старик произвел их. \"Да это тот самый дуб\", - подумал князь Андрей, и на него вдруг нашло беспричинное весеннее чувство радости и обновления. Все лучшие минуты его жизни вдруг в одно и то же время вспомнились ему. И Аустерлиц с высоким небом, и мертвое, укоризненное лицо жены, и Пьер на пароме, и девочка, взволнованная красотою ночи, и эта ночь, и луна - и все это вдруг вспомнилось ему.'\n",
        "text = text.replace(',', '')\n",
        "text = text.replace('.', '')\n",
        "text = text.replace('?', '')\n",
        "text = text.replace('!', '')\n",
        "text = text.replace('\\n', '')\n",
        "text = text.replace('\"', '')\n",
        "text = text.replace('-', '')"
      ]
    },
    {
      "cell_type": "code",
      "execution_count": null,
      "metadata": {
        "id": "IQKLCiPWVJEu"
      },
      "outputs": [],
      "source": [
        "tokens = word_tokenize(text)\n",
        "res1 = list(ngrams(tokens, 1))\n",
        "res2 = list(ngrams(tokens, 2))\n",
        "res2"
      ]
    },
    {
      "cell_type": "markdown",
      "metadata": {
        "id": "o66i2Ba6W7c4"
      },
      "source": [
        "Задача 3"
      ]
    },
    {
      "cell_type": "code",
      "execution_count": null,
      "metadata": {
        "id": "WmFKKmQJcVYm"
      },
      "outputs": [],
      "source": [
        "import random"
      ]
    },
    {
      "cell_type": "code",
      "execution_count": null,
      "metadata": {
        "id": "67x6GLMAW9vu"
      },
      "outputs": [],
      "source": [
        "gramar = {\n",
        "    'p': ['I', 'you', 'she', 'he', 'they','brother'],\n",
        "    's': ['go', 'swim', 'run', 'walk', 'sing', 'draw'],\n",
        "    'o': ['fast', 'slowly', 'very cool']\n",
        "}\n",
        "\n",
        "def create_p(gramar: dict, struct):\n",
        "    res = []\n",
        "    for i in struct:\n",
        "        res.append(random.choice(gramar.get(i, 0)))\n",
        "\n",
        "    res_str = ''\n",
        "    for i in range(0, len(res)):\n",
        "        res_str += res[i] + ' '\n",
        "\n",
        "    return res_str[: len(res_str)-1]\n",
        "\n",
        "print(create_p(gramar, 'pso'))"
      ]
    }
  ],
  "metadata": {
    "colab": {
      "provenance": []
    },
    "kernelspec": {
      "display_name": "Python 3",
      "name": "python3"
    },
    "language_info": {
      "codemirror_mode": {
        "name": "ipython",
        "version": 3
      },
      "file_extension": ".py",
      "mimetype": "text/x-python",
      "name": "python",
      "nbconvert_exporter": "python",
      "pygments_lexer": "ipython3",
      "version": "3.12.0"
    }
  },
  "nbformat": 4,
  "nbformat_minor": 0
}
